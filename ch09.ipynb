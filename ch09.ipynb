{
 "cells": [
  {
   "metadata": {},
   "cell_type": "markdown",
   "source": "## Loading defaults from sqllite",
   "id": "94e89447eb78d67d"
  },
  {
   "metadata": {
    "ExecuteTime": {
     "end_time": "2025-05-24T12:24:10.580507Z",
     "start_time": "2025-05-24T12:24:10.563786Z"
    }
   },
   "cell_type": "code",
   "source": [
    "from sqlalchemy import create_engine\n",
    "import pandas as pd\n",
    "\n",
    "engine = create_engine('sqlite:///question.db')\n",
    "all_prompts = pd.read_sql('prompt', engine)\n",
    "all_contexts = pd.read_sql('context', engine)\n",
    "all_tags = pd.read_sql('tag', engine)\n",
    "answer_context = all_contexts.loc[all_contexts['type'] == 'style', 'context'].get(1)\n",
    "system_context = all_contexts.loc[all_contexts['type'] == 'personal', 'context'].get(0)\n",
    "context = system_context + \"\\r\\n\" + answer_context\n",
    "print(context)"
   ],
   "id": "59f13aa696f2d3f9",
   "outputs": [
    {
     "name": "stdout",
     "output_type": "stream",
     "text": [
      "I am a citizen of Austria, and my tax residency is in Armenia. I need a portfolio that minimizes my expenses related my tax obligations. \n",
      "I aim for high returns. I am open to take risks, but I do not like gambling.\r\n",
      "Please be as concise as possible. If I have a bad idea that can be a problem, be as direct as possible. Don't hold back. \n"
     ]
    }
   ],
   "execution_count": 8
  },
  {
   "metadata": {
    "ExecuteTime": {
     "end_time": "2025-05-24T12:24:25.014187Z",
     "start_time": "2025-05-24T12:24:25.006530Z"
    }
   },
   "cell_type": "code",
   "source": [
    "def get_prompt_by_id(id: str) -> str:\n",
    "    try:\n",
    "        return all_prompts[all_prompts[\"id\"] == id][\"prompt\"].iloc[0]\n",
    "    except:\n",
    "        return \"No prompt found with that ID\"\n",
    "\n",
    "def get_prompts_per_category(tag: str):\n",
    "    all_prompt_tags = all_tags.loc[\n",
    "        all_tags['tag_name'] == tag,\n",
    "        'prompt_id'].tolist()\n",
    "    return all_prompts[all_prompts['id'].isin(all_prompt_tags)]"
   ],
   "id": "cd17f4e4cd1fead",
   "outputs": [],
   "execution_count": 9
  },
  {
   "metadata": {},
   "cell_type": "markdown",
   "source": "# Load keys and tokens",
   "id": "ca6a3d0d0fbfc16d"
  },
  {
   "metadata": {
    "ExecuteTime": {
     "end_time": "2025-05-24T12:27:02.050770Z",
     "start_time": "2025-05-24T12:27:02.043507Z"
    }
   },
   "cell_type": "code",
   "source": [
    "import os\n",
    "import requests\n",
    "from dotenv import load_dotenv\n",
    "\n",
    "load_dotenv()\n",
    "\n",
    "NOTION_TOKEN = os.getenv(\"doc.notion.api\")\n",
    "DATABASE_ID = os.getenv(\"doc.notion.db\")\n",
    "\n",
    "headers = {\n",
    "    \"Authorization\": \"Bearer \" + NOTION_TOKEN,\n",
    "    \"Content-Type\": \"application/json\",\n",
    "    \"Notion-Version\": \"2022-06-28\",\n",
    "}\n",
    "OPEN_AI_DEFAULT_MODEL = \"gpt-4.1\"\n",
    "GEMINI_DEFAULT_MODEL = 'gemini-2.0-flash'\n",
    "GENERAL_RESEARCH_CONTEXT = \"I believe that the current market is difficult due to geopolitical changes, high debts and tariff uncertainty.\"\n",
    "TEMPERATURE = 1"
   ],
   "id": "cd722207231f9051",
   "outputs": [],
   "execution_count": 14
  },
  {
   "metadata": {},
   "cell_type": "markdown",
   "source": "# Calling LLMs",
   "id": "2d8a5a9ef17c27e9"
  },
  {
   "metadata": {
    "ExecuteTime": {
     "end_time": "2025-05-24T12:27:10.588119Z",
     "start_time": "2025-05-24T12:27:10.579825Z"
    }
   },
   "cell_type": "code",
   "source": [
    "from enum import Enum\n",
    "\n",
    "class LLM(Enum):\n",
    "    OPENAI = 1\n",
    "    GEMINI = 2\n",
    "\n",
    "def get_answer(stock_ticker: str, question_text: str, LLM = LLM.OPENAI) -> str:\n",
    "    company_reference = \"\"\n",
    "    if stock_ticker:\n",
    "        company_reference = f\"I am exploring the company with the stock ticker: {stock_ticker}.\"\n",
    "    if GENERAL_RESEARCH_CONTEXT:\n",
    "        company_reference = company_reference + \"\\r\\n\\r\\n\" + GENERAL_RESEARCH_CONTEXT\n",
    "    question = company_reference + \"\\r\\n\\r\\n\" +  question_text  + \"\\r\\n\\r\\n\"\n",
    "    match LLM:\n",
    "        case LLM.OPENAI:\n",
    "            get_answer_openAI(question)\n",
    "        case LLM.GEMINI:\n",
    "            question = context + question\n",
    "            get_answer_gemini(question)\n",
    "        case _:\n",
    "            default_llm(question) # take openai as default\n",
    "    return get_answer_openAI(question)\n",
    "\n",
    "def get_answer_openAI(question: str, model = OPEN_AI_DEFAULT_MODEL, temperature = TEMPERATURE) -> str:\n",
    "    from openai import OpenAI\n",
    "    OPENAI_KEY = os.getenv(\"ai.openai.pwd\")\n",
    "    client = OpenAI(\n",
    "      api_key=OPENAI_KEY\n",
    "    )\n",
    "\n",
    "    completion = client.chat.completions.create(\n",
    "      model=model,\n",
    "      messages=[\n",
    "        {\"role\": \"system\", \"content\": context},\n",
    "        {\"role\": \"user\", \"content\": question}\n",
    "\n",
    "      ],\n",
    "      temperature = temperature\n",
    "    )\n",
    "    return completion.choices[0].message.content\n",
    "\n",
    "def get_answer_gemini(question: str, model = GEMINI_DEFAULT_MODEL, temperature = TEMPERATURE) -> str:\n",
    "    GOOGLE_API_KEY = os.getenv(\"ai.gemini.key\")\n",
    "    from google import genai\n",
    "    from google.genai import types\n",
    "    client = genai.Client(api_key=GOOGLE_API_KEY)\n",
    "    response = client.models.generate_content(\n",
    "        model=model,\n",
    "        contents=question,\n",
    "        config=types.GenerateContentConfig(\n",
    "            temperature=temperature,\n",
    "        ),\n",
    "    )\n",
    "    return response.text\n",
    "\n",
    "default_llm = get_answer_openAI"
   ],
   "id": "143dba5c7017ba10",
   "outputs": [],
   "execution_count": 15
  },
  {
   "metadata": {},
   "cell_type": "markdown",
   "source": "## Notion Helper Functions",
   "id": "2c876fbc37612a40"
  },
  {
   "metadata": {
    "ExecuteTime": {
     "end_time": "2025-05-24T13:33:59.215642Z",
     "start_time": "2025-05-24T13:33:59.205151Z"
    }
   },
   "cell_type": "code",
   "source": [
    "from datetime import datetime\n",
    "def ask_question(stock_ticker: str, question_id: str,\n",
    "                 question_text = None, llm = LLM.OPENAI) -> None:\n",
    "    date_str = datetime.now().strftime(\"%Y_%m_%d\")\n",
    "    if stock_ticker:\n",
    "        properties = get_title_property(\n",
    "            f\"{stock_ticker}-\"\n",
    "            f\"{date_str}-{question_id}-{llm}\")\n",
    "    else:\n",
    "        properties = get_title_property(\n",
    "            f\"generic-{date_str}-{question_id}-{llm}\")\n",
    "    page_block_id = create_page(properties)\n",
    "\n",
    "    if question_text is None:\n",
    "        question_text = get_prompt_by_id(question_id)\n",
    "    if len(question_text) > 0:\n",
    "        write_chunked(page_block_id, question_text)\n",
    "        write_chunked(page_block_id,\n",
    "                      get_answer(stock_ticker,\n",
    "                                 question_text,\n",
    "                                 llm))\n",
    "\n",
    "def get_title_property(title: str):\n",
    "    return {'Name': {'id': 'title',\n",
    "  'type': 'title',\n",
    "  'title': [{'type': 'text',\n",
    "    'text': {'content': title, 'link': None},\n",
    "    'annotations': {'bold': False,\n",
    "     'italic': False,\n",
    "     'strikethrough': False,\n",
    "     'underline': False,\n",
    "     'code': False,\n",
    "     'color': 'default'},\n",
    "    'plain_text': title,\n",
    "    'href': None}]}}\n",
    "\n",
    "def create_page(title_properties: dict) -> str:\n",
    "    create_url = \"https://api.notion.com/v1/pages\"\n",
    "    payload = {\"parent\": {\"database_id\": DATABASE_ID},\n",
    "               \"properties\": title_properties}\n",
    "    res = requests.post(create_url, headers=headers, json=payload)\n",
    "    if res.status_code == 200:\n",
    "        print(f\"{res.status_code}: Page created successfully\")\n",
    "    else:\n",
    "        print(f\"{res.status_code}: Error during page creation\")\n",
    "    return res.json()[\"id\"]\n",
    "\n",
    "def write_chunked(page_block_id, text, chunk_size = 2000):\n",
    "    for i in range(0, len(text), chunk_size):\n",
    "        chunk = text[i:i+chunk_size]\n",
    "        if not write_to_page(page_block_id, create_block(chunk)):\n",
    "            break\n",
    "\n",
    "def write_to_page(page_block_id: str, data: dict) -> bool:\n",
    "    edit_url = f\"https://api.notion.com/v1/blocks/{page_block_id}/children\"\n",
    "    res = requests.patch(edit_url, headers=headers, json=data)\n",
    "    if res.status_code != 200:\n",
    "        print(f\"{res.status_code}: Error during page editing\")\n",
    "        return False\n",
    "    return True\n",
    "\n",
    "def create_block(content : str) -> dict:\n",
    "    return {\n",
    "        \"children\": [\n",
    "            {\n",
    "                \"object\": \"block\",\n",
    "                \"type\": \"paragraph\",\n",
    "                \"paragraph\": {\n",
    "                    \"rich_text\": [\n",
    "                        {\n",
    "                            \"type\": \"text\",\n",
    "                            \"text\": {\n",
    "                                \"content\": content,\n",
    "                            },\n",
    "                        }\n",
    "                    ]\n",
    "                },\n",
    "            },\n",
    "        ]\n",
    "    }"
   ],
   "id": "4615015066f9b34b",
   "outputs": [],
   "execution_count": 18
  },
  {
   "metadata": {},
   "cell_type": "markdown",
   "source": "# Research",
   "id": "8873f3e9533b1378"
  },
  {
   "metadata": {
    "ExecuteTime": {
     "end_time": "2025-05-24T13:34:38.502374Z",
     "start_time": "2025-05-24T13:34:38.489896Z"
    }
   },
   "cell_type": "code",
   "source": [
    "# show all questions to a topic\n",
    "get_prompts_per_category(\"earning\")"
   ],
   "id": "d01492b55d235636",
   "outputs": [
    {
     "data": {
      "text/plain": [
       "             id       domain  \\\n",
       "4  earning_base  qualitative   \n",
       "\n",
       "                                              prompt  \n",
       "4  An earning call of the company is ahead. What ...  "
      ],
      "text/html": [
       "<div>\n",
       "<style scoped>\n",
       "    .dataframe tbody tr th:only-of-type {\n",
       "        vertical-align: middle;\n",
       "    }\n",
       "\n",
       "    .dataframe tbody tr th {\n",
       "        vertical-align: top;\n",
       "    }\n",
       "\n",
       "    .dataframe thead th {\n",
       "        text-align: right;\n",
       "    }\n",
       "</style>\n",
       "<table border=\"1\" class=\"dataframe\">\n",
       "  <thead>\n",
       "    <tr style=\"text-align: right;\">\n",
       "      <th></th>\n",
       "      <th>id</th>\n",
       "      <th>domain</th>\n",
       "      <th>prompt</th>\n",
       "    </tr>\n",
       "  </thead>\n",
       "  <tbody>\n",
       "    <tr>\n",
       "      <th>4</th>\n",
       "      <td>earning_base</td>\n",
       "      <td>qualitative</td>\n",
       "      <td>An earning call of the company is ahead. What ...</td>\n",
       "    </tr>\n",
       "  </tbody>\n",
       "</table>\n",
       "</div>"
      ]
     },
     "execution_count": 20,
     "metadata": {},
     "output_type": "execute_result"
    }
   ],
   "execution_count": 20
  },
  {
   "metadata": {
    "ExecuteTime": {
     "end_time": "2025-05-24T13:34:07.655070Z",
     "start_time": "2025-05-24T13:34:07.644705Z"
    }
   },
   "cell_type": "code",
   "source": " get_prompt_by_id(\"earning_base\")",
   "id": "353f332b38fed5de",
   "outputs": [
    {
     "data": {
      "text/plain": [
       "'An earning call of the company is ahead. What shall I check to make a decision to sell my position or buy more?'"
      ]
     },
     "execution_count": 19,
     "metadata": {},
     "output_type": "execute_result"
    }
   ],
   "execution_count": 19
  },
  {
   "metadata": {
    "ExecuteTime": {
     "end_time": "2025-03-01T14:06:44.890215Z",
     "start_time": "2025-03-01T14:06:04.221677Z"
    }
   },
   "cell_type": "code",
   "outputs": [
    {
     "name": "stdout",
     "output_type": "stream",
     "text": [
      "200: Page created successfully\n"
     ]
    }
   ],
   "execution_count": 28,
   "source": [
    "stock_ticker = None\n",
    "text = \"Assuming there will be peace between Ukraine and Russia. Give me three companies on the stock market that benefit from it and three that do not.\"\n",
    "ask_question(stock_ticker, \"Shorting_Opportunities\", text, LLM.OPENAI)"
   ],
   "id": "9084cbf75d54fce9"
  },
  {
   "metadata": {},
   "cell_type": "markdown",
   "source": "# RAGs",
   "id": "d0f8a1aad20ad035"
  },
  {
   "metadata": {},
   "cell_type": "code",
   "outputs": [],
   "execution_count": null,
   "source": "# langchain basics (9.4)",
   "id": "17f6149f5712842e"
  },
  {
   "metadata": {
    "ExecuteTime": {
     "end_time": "2025-05-24T13:36:21.855227Z",
     "start_time": "2025-05-24T13:36:21.848703Z"
    }
   },
   "cell_type": "code",
   "source": [
    "investment_persona = \"\"\"“I have a computer science background. I have been working for many different companies on digital transformation projects. I understand well how AI can change companies' businesses. I am looking for stocks of companies that might get transformed through AI but have not yet been overrun by investors.\n",
    "\n",
    "I want to be financially independent in five years. I have approximately 500,000 USD available for investment. I want to be able to calculate the money I make passively with an average yield of assets (interests, staking rewards, dividends).\n",
    "\n",
    "I mainly hold stocks and ETFs. I also hold bonds and crypto. I want to keep some amount in index funds.\n",
    "\n",
    "I am interested in the future of autonomous driving and the monetization of climate change mitigation. I also believe in the increase in demand of reliable, non-volatile energy sources, such as nuclear energy due to the increasing demand of nuclear energy. I am also open to alternatives to nuclear energy.\n",
    "\n",
    "I use Interactive Broker and Alpaca as brokers. I use cold wallets to store cryptocurrency.\n",
    "\n",
    "I can take risks if decisions have been thoroughly researched. If the valuation of the asset is temporarily lower, I do not have a problem as long as I see a long-term potential. I am okay with shorting some positions but I prefer long-term quality investing. I do not do day trading.\n",
    "\n",
    "I want to diversify. Diversification also includes assets worldwide, as I see political risks in the US. Otherwise, I am fine with holding most assets in the US market.\n",
    "\n",
    "I am a US-American citizen. My tax residency is in the UK. I want to minimize the taxes we have to pay.\n",
    "\n",
    "I do not like to invest in the tobacco industry and companies that ignore animal rights.\n",
    "\"\"\""
   ],
   "id": "6f2052dd7bb06ba3",
   "outputs": [],
   "execution_count": 21
  },
  {
   "metadata": {
    "ExecuteTime": {
     "end_time": "2025-05-24T13:39:48.470137Z",
     "start_time": "2025-05-24T13:39:36.659314Z"
    }
   },
   "cell_type": "code",
   "source": [
    "from langchain_openai import ChatOpenAI\n",
    "OPENAI_KEY = os.getenv(\"ai.openai.pwd\")\n",
    "llm = ChatOpenAI(\n",
    "\n",
    "    model=\"gpt-4o\",\n",
    "    temperature=0,\n",
    "    max_tokens=None,\n",
    "    timeout=None,\n",
    "    max_retries=2,\n",
    "    api_key=OPENAI_KEY)\n",
    "messages = [\n",
    "    (\n",
    "        \"system\",\n",
    "        investment_persona,\n",
    "    ),\n",
    "    (\"human\", \"Provide a SWOT analysis of Google.\"),\n",
    "]\n",
    "ai_msg = llm.invoke(messages) #A\n",
    "ai_msg\n"
   ],
   "id": "cb3dd86d46e5c3a2",
   "outputs": [
    {
     "data": {
      "text/plain": [
       "AIMessage(content=\"Certainly! Here's a SWOT analysis of Google:\\n\\n**Strengths:**\\n\\n1. **Market Leadership:** Google is a dominant player in the search engine market, with a significant market share globally. Its brand is synonymous with search.\\n\\n2. **Diverse Product Portfolio:** Beyond search, Google has a wide range of products and services, including Android, YouTube, Google Cloud, and Google Ads, which contribute to its revenue streams.\\n\\n3. **Innovation and R&D:** Google is known for its innovation and investment in research and development, leading to cutting-edge technologies in AI, machine learning, and quantum computing.\\n\\n4. **Strong Financial Performance:** Google has a robust financial position with substantial revenue and profit margins, providing resources for further investment and expansion.\\n\\n5. **Data and Analytics:** With access to vast amounts of data, Google can leverage analytics to improve its services and target advertising effectively.\\n\\n**Weaknesses:**\\n\\n1. **Dependence on Advertising Revenue:** A significant portion of Google's revenue comes from advertising, making it vulnerable to changes in digital ad spending and market dynamics.\\n\\n2. **Privacy Concerns:** Google faces ongoing scrutiny and criticism over data privacy practices, which can impact user trust and lead to regulatory challenges.\\n\\n3. **Complex Organizational Structure:** The vast array of products and services can lead to management challenges and inefficiencies.\\n\\n4. **Limited Social Media Presence:** Compared to competitors like Facebook, Google's social media efforts (e.g., Google+) have not been as successful.\\n\\n**Opportunities:**\\n\\n1. **Expansion in Cloud Computing:** Google Cloud is a growing segment with significant potential as businesses increasingly adopt cloud solutions.\\n\\n2. **AI and Machine Learning:** Continued advancements in AI can lead to new products and improvements in existing services, enhancing user experience and operational efficiency.\\n\\n3. **Autonomous Vehicles:** Through its subsidiary Waymo, Google has the opportunity to lead in the autonomous vehicle industry.\\n\\n4. **Emerging Markets:** Expanding internet access in emerging markets presents opportunities for growth in user base and ad revenue.\\n\\n5. **Sustainability Initiatives:** Investing in renewable energy and sustainable practices can enhance Google's brand image and reduce operational costs.\\n\\n**Threats:**\\n\\n1. **Regulatory Challenges:** Google faces antitrust investigations and regulatory pressures in various countries, which could lead to fines or changes in business practices.\\n\\n2. **Intense Competition:** The tech industry is highly competitive, with rivals like Amazon, Microsoft, and Facebook posing threats in various segments.\\n\\n3. **Cybersecurity Risks:** As a major tech company, Google is a target for cyberattacks, which could compromise user data and trust.\\n\\n4. **Economic Downturns:** Economic instability can lead to reduced advertising budgets, impacting Google's primary revenue source.\\n\\n5. **Technological Changes:** Rapid technological advancements require continuous adaptation and innovation to maintain market leadership.\\n\\nThis SWOT analysis provides a snapshot of Google's current strategic position, highlighting its strengths, weaknesses, opportunities, and threats in the market.\", additional_kwargs={'refusal': None}, response_metadata={'token_usage': {'completion_tokens': 596, 'prompt_tokens': 360, 'total_tokens': 956, 'completion_tokens_details': {'accepted_prediction_tokens': 0, 'audio_tokens': 0, 'reasoning_tokens': 0, 'rejected_prediction_tokens': 0}, 'prompt_tokens_details': {'audio_tokens': 0, 'cached_tokens': 0}}, 'model_name': 'gpt-4o-2024-08-06', 'system_fingerprint': 'fp_07871e2ad8', 'id': 'chatcmpl-BajO9FkRLoEiHCkhprgpnYpjNjRv0', 'service_tier': 'default', 'finish_reason': 'stop', 'logprobs': None}, id='run--57ff54df-7bec-4f78-b46a-202e8a447dc9-0', usage_metadata={'input_tokens': 360, 'output_tokens': 596, 'total_tokens': 956, 'input_token_details': {'audio': 0, 'cache_read': 0}, 'output_token_details': {'audio': 0, 'reasoning': 0}})"
      ]
     },
     "execution_count": 24,
     "metadata": {},
     "output_type": "execute_result"
    }
   ],
   "execution_count": 24
  },
  {
   "metadata": {},
   "cell_type": "markdown",
   "source": "# Listing 9.5",
   "id": "9e0b995f39cbc47e"
  },
  {
   "metadata": {
    "ExecuteTime": {
     "end_time": "2025-05-24T13:43:00.565763Z",
     "start_time": "2025-05-24T13:42:40.249873Z"
    }
   },
   "cell_type": "code",
   "source": [
    "from langchain.agents import AgentType, initialize_agent\n",
    "from langchain_community.tools.yahoo_finance_news import YahooFinanceNewsTool\n",
    "\n",
    "tools = [YahooFinanceNewsTool()]\n",
    "agent_chain = initialize_agent(\n",
    "    tools,\n",
    "    llm,\n",
    "    agent=AgentType.ZERO_SHOT_REACT_DESCRIPTION,\n",
    "    verbose=True,\n",
    ")\n",
    "agent_chain.invoke(\n",
    "    \"What happened today with Microsoft stocks?\", #A\n",
    ")\n"
   ],
   "id": "f944f5f49155b0fe",
   "outputs": [
    {
     "name": "stderr",
     "output_type": "stream",
     "text": [
      "USER_AGENT environment variable not set, consider setting it to identify your requests.\n",
      "/var/folders/6g/gq4hv4r53q35rzvjssls_3h00000gn/T/ipykernel_13720/730142885.py:5: LangChainDeprecationWarning: LangChain agents will continue to be supported, but it is recommended for new use cases to be built with LangGraph. LangGraph offers a more flexible and full-featured framework for building agents, including support for tool-calling, persistence of state, and human-in-the-loop workflows. For details, refer to the `LangGraph documentation <https://langchain-ai.github.io/langgraph/>`_ as well as guides for `Migrating from AgentExecutor <https://python.langchain.com/docs/how_to/migrate_agent/>`_ and LangGraph's `Pre-built ReAct agent <https://langchain-ai.github.io/langgraph/how-tos/create-react-agent/>`_.\n",
      "  agent_chain = initialize_agent(\n"
     ]
    },
    {
     "name": "stdout",
     "output_type": "stream",
     "text": [
      "\n",
      "\n",
      "\u001B[1m> Entering new AgentExecutor chain...\u001B[0m\n",
      "\u001B[32;1m\u001B[1;3mTo answer this question, I need to find the latest financial news about Microsoft. \n",
      "Action: yahoo_finance_news\n",
      "Action Input: MSFT\u001B[0m\n",
      "Observation: \u001B[36;1m\u001B[1;3mOpenAI looks to ship 100M AI ‘companion’ devices for everyday life, WSJ reports\n",
      "Sam Altman told his staff that Microsoft (MSFT)-backed OpenAI aims to ship 100M AI “companion” devices meant for everyday life, and to release the first by late 2026, The Wall Street Journal’s Berber Jin reports. The AI device, not a phone or glasses, will be pocket-size, screen-free and contextually aware, Jin writes. Sam Altman and Jony Ive envision a “family of devices” integrating hardware and software, according to the report. Published first on TheFly – the ultimate source for real-time, m\n",
      "\n",
      "FTC drops case over Microsoft’s $69B deal for Activision, Reuters reports\n",
      "The FTC has dropped a case that sought to block Microsoft’s (MSFT) $69B purchase of Activision Blizzard, saying that pursuing the case was not in the public interest, Reuters reports. FTC Chairman Andrew Ferguson is seeking to use the agency’s resources for cases that fit with President Donald Trump’s agenda, such as a probe related to whether advertisers colluded to spend less on X, according to the report. Published first on TheFly – the ultimate source for real-time, market-moving breaking fi\n",
      "\n",
      "Why Evercore Is Even More Bullish on Microsoft (MSFT) After Its 360 Event\n",
      "We recently published a list of 10 AI Stocks on Latest News and Ratings. In this article, we are going to take a look at where Microsoft Corporation (NASDAQ:MSFT) stands against other best AI stocks on latest news and ratings. Microsoft Corporation (NASDAQ:MSFT) provides AI-powered cloud, productivity, and business solutions, focusing on efficiency, security, and […]\n",
      "\n",
      "Microsoft just took the next big step in the AI race, Deutsche Bank says\n",
      "Microsoft (MSFT) is looking to change the AI landscape. At the company’s annual Build 2025 conference this week, the company “jumped in with both feet to the vision of an agentic [AI] future,” Deutsche Bank (DB) analysts said in a new research note.\u001B[0m\n",
      "Thought:\u001B[32;1m\u001B[1;3mThe latest news about Microsoft includes several significant developments:\n",
      "\n",
      "1. OpenAI, backed by Microsoft, plans to ship 100 million AI \"companion\" devices by late 2026. These devices will be pocket-sized, screen-free, and contextually aware, representing a new category of AI hardware.\n",
      "\n",
      "2. The FTC has dropped its case against Microsoft's $69 billion acquisition of Activision Blizzard, allowing the deal to proceed.\n",
      "\n",
      "3. Evercore has become more bullish on Microsoft following its 360 Event, highlighting Microsoft's focus on AI-powered cloud, productivity, and business solutions.\n",
      "\n",
      "4. At Microsoft's annual Build 2025 conference, the company emphasized its commitment to advancing AI technology, which Deutsche Bank analysts noted as a significant step in the AI race.\n",
      "\n",
      "These developments could have various impacts on Microsoft's stock, including potential increases in investor confidence and stock value due to the positive news about AI advancements and the resolution of the FTC case.\n",
      "\n",
      "Final Answer: Microsoft has several positive developments: OpenAI plans to ship 100M AI devices, the FTC dropped its case against Microsoft's Activision deal, and analysts are bullish on Microsoft's AI advancements.\u001B[0m\n",
      "\n",
      "\u001B[1m> Finished chain.\u001B[0m\n"
     ]
    },
    {
     "data": {
      "text/plain": [
       "{'input': 'What happened today with Microsoft stocks?',\n",
       " 'output': \"Microsoft has several positive developments: OpenAI plans to ship 100M AI devices, the FTC dropped its case against Microsoft's Activision deal, and analysts are bullish on Microsoft's AI advancements.\"}"
      ]
     },
     "execution_count": 25,
     "metadata": {},
     "output_type": "execute_result"
    }
   ],
   "execution_count": 25
  },
  {
   "metadata": {},
   "cell_type": "markdown",
   "source": "# AI Agents",
   "id": "da25ceb71d28d679"
  },
  {
   "metadata": {
    "ExecuteTime": {
     "end_time": "2025-05-24T14:01:18.353434Z",
     "start_time": "2025-05-24T14:01:18.346665Z"
    }
   },
   "cell_type": "code",
   "source": [
    "import os\n",
    "from dotenv import load_dotenv\n",
    "load_dotenv()\n",
    "os.environ['OPENAI_API_KEY'] = os.getenv(\"ai.openai.pwd\")"
   ],
   "id": "2acad20ec44f1e08",
   "outputs": [],
   "execution_count": 30
  },
  {
   "metadata": {
    "ExecuteTime": {
     "end_time": "2025-05-24T14:01:20.412632Z",
     "start_time": "2025-05-24T14:01:20.405837Z"
    }
   },
   "cell_type": "code",
   "source": [
    "from langchain_core.documents.base import Document\n",
    "\n",
    "all_docs = []\n",
    "files = [\"pony.txt\", \"oust.txt\", \"lazr.txt\", \"invz.txt\", \"aeva.txt\"]\n",
    "for f in files:\n",
    "    file = open(f, \"r\")\n",
    "    content = file.read()\n",
    "    doc = Document(content)\n",
    "    all_docs.append(doc)\n",
    "    file.close()"
   ],
   "id": "cf0e1e1417924fd8",
   "outputs": [],
   "execution_count": 31
  },
  {
   "metadata": {
    "ExecuteTime": {
     "end_time": "2025-05-24T14:01:22.370837Z",
     "start_time": "2025-05-24T14:01:22.365297Z"
    }
   },
   "cell_type": "code",
   "source": [
    "generic = \"\"\"I have a computer science background. I have been working for many different companies on digital transformation projects. I understand well how AI can change companies' businesses. I am looking for stocks of companies that might get transformed through AI but have not yet been overrun by investors.\"\"\"\n",
    "\n",
    "pro_lidar_text = \"\"\"I believe in the future of autonomous driving. I believe that autonomous driving needs LIDAR system. Do not recommend me any companies that reject LIDAR.\"\"\"\n",
    "con_lidar_context = \"\"\"Please prefer companies that focus on solutions without LIDAR systems as they are expensive.\"\"\"\n",
    "all_docs.append(Document(generic + pro_lidar_text))"
   ],
   "id": "63b92e17dc2da291",
   "outputs": [],
   "execution_count": 32
  },
  {
   "metadata": {
    "ExecuteTime": {
     "end_time": "2025-05-24T14:01:24.870033Z",
     "start_time": "2025-05-24T14:01:24.859359Z"
    }
   },
   "cell_type": "code",
   "source": [
    "from langchain_text_splitters import RecursiveCharacterTextSplitter\n",
    "\n",
    "text_splitter = RecursiveCharacterTextSplitter(\n",
    "    chunk_size=1000,\n",
    "    chunk_overlap=200,\n",
    "    add_start_index=True,\n",
    ")\n",
    "all_splits = text_splitter.split_documents(all_docs)\n",
    "\n",
    "print(f\"Split blog post into {len(all_splits)} sub-documents.\")"
   ],
   "id": "f837fd783defc42f",
   "outputs": [
    {
     "name": "stdout",
     "output_type": "stream",
     "text": [
      "Split blog post into 268 sub-documents.\n"
     ]
    }
   ],
   "execution_count": 33
  },
  {
   "metadata": {
    "ExecuteTime": {
     "end_time": "2025-05-24T14:01:35.798200Z",
     "start_time": "2025-05-24T14:01:28.262848Z"
    }
   },
   "cell_type": "code",
   "source": [
    "from langchain_openai import OpenAIEmbeddings\n",
    "embeddings = OpenAIEmbeddings(model=\"text-embedding-3-large\")\n",
    "from langchain_core.vectorstores import InMemoryVectorStore\n",
    "vector_store = InMemoryVectorStore(embeddings)\n",
    "document_ids = vector_store.add_documents(documents=all_splits)"
   ],
   "id": "ff7064f4a36cb768",
   "outputs": [],
   "execution_count": 34
  },
  {
   "metadata": {
    "ExecuteTime": {
     "end_time": "2025-05-24T14:01:36.201975Z",
     "start_time": "2025-05-24T14:01:35.823238Z"
    }
   },
   "cell_type": "code",
   "source": [
    "from langchain_core.documents import Document\n",
    "from typing_extensions import List, TypedDict\n",
    "from langchain import hub\n",
    "prompt = hub.pull(\"rlm/rag-prompt\")\n",
    "\n",
    "class State(TypedDict):\n",
    "    question: str\n",
    "    context: List[Document]\n",
    "    answer: str\n",
    "\n",
    "def retrieve(state: State):\n",
    "    retrieved_docs = vector_store.similarity_search(state[\"question\"])\n",
    "    return {\"context\": retrieved_docs}\n",
    "\n",
    "def generate(state: State):\n",
    "    docs_content = \"\\n\\n\".join(doc.page_content for doc in state[\"context\"])\n",
    "    messages = prompt.invoke({\"question\": state[\"question\"], \"context\": docs_content})\n",
    "    response = llm.invoke(messages)\n",
    "    return {\"answer\": response.content}"
   ],
   "id": "3140b50dec709754",
   "outputs": [
    {
     "name": "stderr",
     "output_type": "stream",
     "text": [
      "/Library/Frameworks/Python.framework/Versions/3.13/lib/python3.13/site-packages/langsmith/client.py:272: LangSmithMissingAPIKeyWarning: API key must be provided when using hosted LangSmith API\n",
      "  warnings.warn(\n"
     ]
    }
   ],
   "execution_count": 35
  },
  {
   "metadata": {
    "ExecuteTime": {
     "end_time": "2025-05-24T14:01:36.284141Z",
     "start_time": "2025-05-24T14:01:36.225548Z"
    }
   },
   "cell_type": "code",
   "source": [
    "from langchain.chat_models import init_chat_model\n",
    "llm = init_chat_model(\"gpt-4.1\", model_provider=\"openai\")\n",
    "question = \"Recommend companies in the autonomous driving sector with good recent earnings.\""
   ],
   "id": "96328016fca0f5dc",
   "outputs": [],
   "execution_count": 36
  },
  {
   "metadata": {
    "ExecuteTime": {
     "end_time": "2025-05-24T14:01:43.415722Z",
     "start_time": "2025-05-24T14:01:42.980260Z"
    }
   },
   "cell_type": "code",
   "source": [
    "from langgraph.graph import START, StateGraph\n",
    "from IPython.display import Image, display\n",
    "\n",
    "graph_builder = (StateGraph(State).add_sequence\n",
    "                 ([retrieve, generate]))\n",
    "graph_builder.add_edge(START, \"retrieve\")\n",
    "graph = graph_builder.compile()\n",
    "display(Image(graph.get_graph().draw_mermaid_png()))"
   ],
   "id": "61b992bee536286d",
   "outputs": [
    {
     "data": {
      "image/png": "[encoded data removed]",
      "text/plain": [
       "<IPython.core.display.Image object>"
      ]
     },
     "metadata": {},
     "output_type": "display_data"
    }
   ],
   "execution_count": 37
  },
  {
   "metadata": {
    "ExecuteTime": {
     "end_time": "2025-05-24T14:01:52.009554Z",
     "start_time": "2025-05-24T14:01:48.033422Z"
    }
   },
   "cell_type": "code",
   "source": [
    "result = graph.invoke({\"question\": question})\n",
    "\n",
    "print(f'Answer: {result[\"answer\"]}')"
   ],
   "id": "2776f6a21dbb42a6",
   "outputs": [
    {
     "name": "stdout",
     "output_type": "stream",
     "text": [
      "Answer: Based on the context, Innoviz is a strong recommendation in the autonomous driving sector—they have good recent earnings, strong partnerships (such as with Mobileye and NVIDIA), a robust pipeline with OEMs globally, and market-leading LIDAR technology. They are also expanding production and have prudent financial management. Innoviz emphasizes LIDAR and is well-positioned for growth in both automotive and adjacent sectors.\n"
     ]
    }
   ],
   "execution_count": 38
  }
 ],
 "metadata": {
  "kernelspec": {
   "display_name": "Python 3",
   "language": "python",
   "name": "python3"
  },
  "language_info": {
   "codemirror_mode": {
    "name": "ipython",
    "version": 2
   },
   "file_extension": ".py",
   "mimetype": "text/x-python",
   "name": "python",
   "nbconvert_exporter": "python",
   "pygments_lexer": "ipython2",
   "version": "2.7.6"
  }
 },
 "nbformat": 4,
 "nbformat_minor": 5
}

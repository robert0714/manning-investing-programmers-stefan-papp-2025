{
 "cells": [
  {
   "metadata": {},
   "cell_type": "markdown",
   "source": "# DCF",
   "id": "c049640264371ec8"
  },
  {
   "cell_type": "code",
   "id": "initial_id",
   "metadata": {
    "collapsed": true,
    "ExecuteTime": {
     "end_time": "2025-03-03T13:47:45.753949Z",
     "start_time": "2025-03-03T13:47:45.704310Z"
    }
   },
   "source": [
    "import numpy as np\n",
    "\n",
    "years = 5    #A\n",
    "initial_revenue = 500_000    #A\n",
    "growth_rate = 0.3    #A\n",
    "initial_expense = 700_000    #A\n",
    "expense_reduction = 0.1    #A\n",
    "discount_rate = 0.4    #A\n",
    "\n",
    "cash_flows = []    #B\n",
    "for t in range(1, years + 1):\n",
    "    revenue = initial_revenue * (1 + growth_rate) ** t    #B\n",
    "    expense = (initial_expense *\n",
    "               (1 - expense_reduction) ** t)    #B\n",
    "    cash_flow = revenue - expense    #B\n",
    "    cash_flows.append(cash_flow)    #B\n",
    "\n",
    "terminal_growth_rate = 0.05    #C\n",
    "terminal_value = (cash_flows[-1] *\n",
    "                  (1 + terminal_growth_rate) /\n",
    "                  (discount_rate - terminal_growth_rate))    #C\n",
    "\n",
    "\n",
    "discounted_cash_flows = [cf / (1 + discount_rate) ** (t+1) for t, cf in enumerate(cash_flows)]    #D\n",
    "discounted_terminal_value = terminal_value / (1 + discount_rate) ** years    #D\n",
    "startup_valuation = sum(discounted_cash_flows) + discounted_terminal_value    #D\n",
    "print(f\"Estimated Startup Valuation: ${startup_valuation:,.2f}\")\n"
   ],
   "outputs": [
    {
     "name": "stdout",
     "output_type": "stream",
     "text": [
      "Estimated Startup Valuation: $1,695,966.71\n"
     ]
    }
   ],
   "execution_count": 2
  },
  {
   "metadata": {},
   "cell_type": "markdown",
   "source": "# Dilution",
   "id": "c08c5ec3f868ddea"
  },
  {
   "metadata": {
    "ExecuteTime": {
     "end_time": "2025-03-03T13:49:26.356435Z",
     "start_time": "2025-03-03T13:49:26.349337Z"
    }
   },
   "cell_type": "code",
   "source": [
    "import pandas as pd\n",
    "\n",
    "total_shares = 1_000_000    #A\n",
    "founder_shares = 500_000    #A\n",
    "\n",
    "# Funding rounds (investment amount, equity given)\n",
    "funding_rounds = [\n",
    "    (\"Seed\", 500_000, 25),    #A\n",
    "    (\"Series A\", 2_000_000, 20),    #A\n",
    "    (\"Series B\", 10_000_000, 15),    #A\n",
    "    (\"Series C\", 50_000_000, 10)     #A\n",
    "]\n",
    "\n",
    "dilution_data = []\n",
    "\n",
    "for round_name, investment, equity_given in funding_rounds:\n",
    "    new_shares = (total_shares *\n",
    "                  (equity_given /\n",
    "                   (100 - equity_given)))  # New shares to issue\n",
    "    total_shares += new_shares\n",
    "    founder_ownership = (founder_shares /\n",
    "                         total_shares) * 100  # Founder % after dilution\n",
    "    dilution_data.append([round_name,\n",
    "                          investment,\n",
    "                          int(total_shares),\n",
    "                          round(founder_ownership, 2)])\n",
    "\n",
    "# Convert to DataFrame for display\n",
    "df = pd.DataFrame(dilution_data,\n",
    "                columns=[\"Round\", \"Investment ($)\", \"Total Shares\", \"Founder Ownership (%)\"])\n",
    "df"
   ],
   "id": "cecb6f6501c543e7",
   "outputs": [
    {
     "data": {
      "text/plain": [
       "      Round  Investment ($)  Total Shares  Founder Ownership (%)\n",
       "0      Seed          500000       1333333                  37.50\n",
       "1  Series A         2000000       1666666                  30.00\n",
       "2  Series B        10000000       1960784                  25.50\n",
       "3  Series C        50000000       2178649                  22.95"
      ],
      "text/html": [
       "<div>\n",
       "<style scoped>\n",
       "    .dataframe tbody tr th:only-of-type {\n",
       "        vertical-align: middle;\n",
       "    }\n",
       "\n",
       "    .dataframe tbody tr th {\n",
       "        vertical-align: top;\n",
       "    }\n",
       "\n",
       "    .dataframe thead th {\n",
       "        text-align: right;\n",
       "    }\n",
       "</style>\n",
       "<table border=\"1\" class=\"dataframe\">\n",
       "  <thead>\n",
       "    <tr style=\"text-align: right;\">\n",
       "      <th></th>\n",
       "      <th>Round</th>\n",
       "      <th>Investment ($)</th>\n",
       "      <th>Total Shares</th>\n",
       "      <th>Founder Ownership (%)</th>\n",
       "    </tr>\n",
       "  </thead>\n",
       "  <tbody>\n",
       "    <tr>\n",
       "      <th>0</th>\n",
       "      <td>Seed</td>\n",
       "      <td>500000</td>\n",
       "      <td>1333333</td>\n",
       "      <td>37.50</td>\n",
       "    </tr>\n",
       "    <tr>\n",
       "      <th>1</th>\n",
       "      <td>Series A</td>\n",
       "      <td>2000000</td>\n",
       "      <td>1666666</td>\n",
       "      <td>30.00</td>\n",
       "    </tr>\n",
       "    <tr>\n",
       "      <th>2</th>\n",
       "      <td>Series B</td>\n",
       "      <td>10000000</td>\n",
       "      <td>1960784</td>\n",
       "      <td>25.50</td>\n",
       "    </tr>\n",
       "    <tr>\n",
       "      <th>3</th>\n",
       "      <td>Series C</td>\n",
       "      <td>50000000</td>\n",
       "      <td>2178649</td>\n",
       "      <td>22.95</td>\n",
       "    </tr>\n",
       "  </tbody>\n",
       "</table>\n",
       "</div>"
      ]
     },
     "execution_count": 5,
     "metadata": {},
     "output_type": "execute_result"
    }
   ],
   "execution_count": 5
  }
 ],
 "metadata": {
  "kernelspec": {
   "display_name": "Python 3",
   "language": "python",
   "name": "python3"
  },
  "language_info": {
   "codemirror_mode": {
    "name": "ipython",
    "version": 2
   },
   "file_extension": ".py",
   "mimetype": "text/x-python",
   "name": "python",
   "nbconvert_exporter": "python",
   "pygments_lexer": "ipython2",
   "version": "2.7.6"
  }
 },
 "nbformat": 4,
 "nbformat_minor": 5
}
